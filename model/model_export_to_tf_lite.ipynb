{
 "cells": [
  {
   "cell_type": "markdown",
   "metadata": {},
   "source": [
    "## Export models to ONNX\n",
    "\n",
    "Export the PyTorch model to ONNX format, which can be used on Android devices via TensorFlow Lite."
   ]
  },
  {
   "cell_type": "code",
   "execution_count": null,
   "metadata": {},
   "outputs": [],
   "source": [
    "import os\n",
    "import onnx\n",
    "from onnx_tf.backend import prepare\n",
    "import onnx2tf\n",
    "\n",
    "# ONNX models are found inside ../model/export/\n",
    "onnx_export_path = '../model/export/'\n",
    "\n",
    "for file_path in os.listdir(onnx_export_path):\n",
    "    if file_path.endswith('.onnx'):\n",
    "        onnx_file = os.path.join(onnx_export_path, file_path)\n",
    "        if os.path.isfile(onnx_file):\n",
    "            onnx2tf.convert(\n",
    "                input_onnx_file_path=onnx_file,\n",
    "                output_folder_path=onnx_file.split('.')[0],\n",
    "            )\n",
    "            # onnx_model = onnx.load(onnx_file)  # Load the ONNX file\n",
    "            # tf_rep = prepare(onnx_model)  # Prepare the tf representation           \n",
    "            # tf_rep.export_graph(onnx_file.split('.')[0])  # Save the model as .pb format\n",
    "        else:\n",
    "            print(f\"File {onnx_file} does not exist.\")\n"
   ]
  }
 ],
 "metadata": {
  "kernelspec": {
   "display_name": "Python 3",
   "language": "python",
   "name": "python3"
  },
  "language_info": {
   "codemirror_mode": {
    "name": "ipython",
    "version": 3
   },
   "file_extension": ".py",
   "mimetype": "text/x-python",
   "name": "python",
   "nbconvert_exporter": "python",
   "pygments_lexer": "ipython3",
   "version": "3.11.2"
  },
  "orig_nbformat": 4
 },
 "nbformat": 4,
 "nbformat_minor": 2
}
