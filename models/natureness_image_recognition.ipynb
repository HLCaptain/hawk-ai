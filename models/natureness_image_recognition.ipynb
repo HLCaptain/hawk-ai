{
 "cells": [
  {
   "cell_type": "markdown",
   "metadata": {},
   "source": [
    "# Natureness Image Recognition\n",
    "\n",
    "Train and evaluation of multiple image recognition models on 2 datasets: city, nature.\n",
    "\n",
    "## Goals\n",
    "\n",
    "- Train models on 2 datasets: city, nature\n",
    "- Evaluate models on 2 datasets: city, nature\n",
    "- Compare the performance of the models on the 2 datasets, even with their respective evaluation datasets\n",
    "- Train more image recognition models with transfer learning"
   ]
  },
  {
   "cell_type": "code",
   "execution_count": null,
   "metadata": {},
   "outputs": [],
   "source": [
    "import os\n",
    "import glob\n",
    "import wandb\n",
    "import webp\n",
    "\n",
    "from sklearn.model_selection import train_test_split\n",
    "import torch\n",
    "from transformers import AutoImageProcessor, ConvNextModel\n",
    "import torchvision\n",
    "import torchmetrics\n",
    "from torch import nn\n",
    "from torch.utils.data import Dataset, DataLoader\n",
    "import matplotlib.pyplot as plt\n",
    "import numpy as np\n",
    "from lightly.transforms import utils\n",
    "from lightly.models.utils import deactivate_requires_grad\n",
    "import lightning as l"
   ]
  },
  {
   "cell_type": "code",
   "execution_count": null,
   "metadata": {},
   "outputs": [],
   "source": [
    "wandb.login()"
   ]
  },
  {
   "cell_type": "code",
   "execution_count": null,
   "metadata": {},
   "outputs": [],
   "source": [
    "num_workers = 4 # os.cpu_count()\n",
    "batch_size = 16\n",
    "memory_bank_size = 4096\n",
    "seed = 1\n",
    "max_epochs = 100\n",
    "data_dir = '..\\data'\n",
    "accelerator = \"gpu\" if torch.cuda.is_available() else \"cpu\"\n",
    "\n",
    "torch.cuda.manual_seed_all(seed)"
   ]
  },
  {
   "cell_type": "markdown",
   "metadata": {},
   "source": [
    "## Loading dataset"
   ]
  },
  {
   "cell_type": "markdown",
   "metadata": {},
   "source": [
    "Labels are random for now, CHANGE it later!!"
   ]
  },
  {
   "cell_type": "code",
   "execution_count": null,
   "metadata": {},
   "outputs": [],
   "source": [
    "image_paths = glob.glob(os.path.join(data_dir, '**', '*.webp'), recursive=True)\n",
    "x = np.array(image_paths)\n",
    "print(len(x))\n",
    "print(x[2], x[-1])\n",
    "\n",
    "# until labels are available\n",
    "y = np.random.uniform(low=0.0, high=1.0, size=(len(image_paths)))\n",
    "# convert y to float32\n",
    "y = y.astype(np.float32)\n",
    "print(len(y))\n",
    "print(y[2], y[-1])"
   ]
  },
  {
   "cell_type": "code",
   "execution_count": null,
   "metadata": {},
   "outputs": [],
   "source": [
    "img = webp.load_image(x[2])\n",
    "plt.imshow(img)"
   ]
  },
  {
   "cell_type": "markdown",
   "metadata": {},
   "source": [
    "### Splitting dataset into train - validation - test sets"
   ]
  },
  {
   "cell_type": "code",
   "execution_count": null,
   "metadata": {},
   "outputs": [],
   "source": [
    "x_train, x_test, y_train, y_test = train_test_split(x, y, test_size=0.2, random_state=42)\n",
    "x_test, x_val, y_test, y_val = train_test_split(x_test, y_test, test_size=0.5, random_state=42)\n",
    "\n",
    "print(\"Train data:\", x_train.shape, y_train.shape)\n",
    "print(\"Test data:\", x_test.shape, y_test.shape)\n",
    "print(\"Validation data:\", x_val.shape, y_val.shape)"
   ]
  },
  {
   "cell_type": "code",
   "execution_count": null,
   "metadata": {},
   "outputs": [],
   "source": [
    "class NaturnessDataset(Dataset):\n",
    "    def __init__(self, x, y, transform=None, target_transform=None):\n",
    "        self.image_paths = x\n",
    "        self.labels = y\n",
    "        self.transform = transform\n",
    "        self.target_transform = target_transform\n",
    "\n",
    "    def __len__(self):\n",
    "        return len(self.labels)\n",
    "\n",
    "    def __getitem__(self, idx):\n",
    "        image = webp.load_image(self.image_paths[idx]).convert('RGB')\n",
    "        label = self.labels[idx]\n",
    "        if self.transform:\n",
    "            image = self.transform(image)\n",
    "        if self.target_transform:\n",
    "            label = self.target_transform(label)\n",
    "        return image, label"
   ]
  },
  {
   "cell_type": "code",
   "execution_count": null,
   "metadata": {},
   "outputs": [],
   "source": [
    "train_transforms = torchvision.transforms.Compose(\n",
    "    [\n",
    "        torchvision.transforms.RandomCrop(32, padding=4),\n",
    "        torchvision.transforms.RandomHorizontalFlip(),\n",
    "        torchvision.transforms.ToTensor(),\n",
    "        torchvision.transforms.Normalize(\n",
    "            mean=utils.IMAGENET_NORMALIZE[\"mean\"],\n",
    "            std=utils.IMAGENET_NORMALIZE[\"std\"],\n",
    "        ),\n",
    "    ]\n",
    ")\n",
    "\n",
    "# No additional augmentations for the test set\n",
    "test_transforms = torchvision.transforms.Compose(\n",
    "    [\n",
    "        torchvision.transforms.Resize((32, 32)),\n",
    "        torchvision.transforms.ToTensor(),\n",
    "        torchvision.transforms.Normalize(\n",
    "            mean=utils.IMAGENET_NORMALIZE[\"mean\"],\n",
    "            std=utils.IMAGENET_NORMALIZE[\"std\"],\n",
    "        ),\n",
    "    ]\n",
    ")\n",
    "\n",
    "dataset_train = NaturnessDataset(x_train, y_train, transform=train_transforms)\n",
    "dataset_valid = NaturnessDataset(x_val, y_val, transform=test_transforms)\n",
    "dataset_test = NaturnessDataset(x_test, y_test, transform=test_transforms)"
   ]
  },
  {
   "cell_type": "code",
   "execution_count": null,
   "metadata": {},
   "outputs": [],
   "source": [
    "dataloader_train = DataLoader(\n",
    "    dataset_train,\n",
    "    batch_size=batch_size,\n",
    "    shuffle=True,\n",
    "    drop_last=True,\n",
    "    # num_workers=num_workers,\n",
    "    # persistent_workers=True,\n",
    ")\n",
    "\n",
    "dataloader_valid = DataLoader(\n",
    "    dataset_valid,\n",
    "    batch_size=batch_size,\n",
    "    shuffle=False,\n",
    "    drop_last=True,\n",
    "    # num_workers=num_workers,\n",
    "    # persistent_workers=True,\n",
    ")\n",
    "\n",
    "dataloader_test = DataLoader(\n",
    "    dataset_test,\n",
    "    batch_size=batch_size,\n",
    "    shuffle=False,\n",
    "    drop_last=True,\n",
    "    # num_workers=num_workers,\n",
    "    # persistent_workers=True,\n",
    ")"
   ]
  },
  {
   "cell_type": "code",
   "execution_count": null,
   "metadata": {},
   "outputs": [],
   "source": [
    "device = torch.device('cuda' if torch.cuda.is_available() else 'cpu')\n",
    "\n",
    "class NaturenessRegressionModel(l.LightningModule):\n",
    "    def __init__(self, backbone, freeze, net):\n",
    "        super().__init__()\n",
    "        self.backbone = backbone\n",
    "\n",
    "        if freeze:\n",
    "            # freeze the backbone\n",
    "            deactivate_requires_grad(backbone)\n",
    "\n",
    "        # create a linear layer for downstream classification model\n",
    "        self.fc = net\n",
    "\n",
    "        self.criterion = nn.MSELoss()\n",
    "        #self.accuracy = torchmetrics.Accuracy(task='multiclass', num_classes=num_classes)\n",
    "        self.validation_step_outputs = []\n",
    "\n",
    "    def forward(self, x):\n",
    "        x = x.to(device)\n",
    "        y_hat = self.backbone(x).pooler_output\n",
    "        y_hat = self.fc(y_hat)\n",
    "        return y_hat\n",
    "\n",
    "    def training_step(self, batch, batch_idx):\n",
    "        x, y = batch\n",
    "        x, y = x.to(device), y.to(device)\n",
    "        y_hat = self.forward(x)\n",
    "        loss = self.criterion(y_hat, y)\n",
    "        self.log(\"train_loss\", loss)\n",
    "        return loss\n",
    "\n",
    "    def validation_step(self, batch, batch_idx):\n",
    "        x, y = batch\n",
    "        x, y = x.to(device), y.to(device)\n",
    "        y_hat = self.forward(x)\n",
    "        loss = self.criterion(y_hat, y)\n",
    "        self.validation_step_outputs.append(loss)\n",
    "        return loss\n",
    "\n",
    "    def test_step(self, batch, batch_idx):\n",
    "        x, y = batch\n",
    "        x, y = x.to(device), y.to(device)\n",
    "        y_hat = self.forward(x)\n",
    "        loss = self.criterion(y_hat, y)\n",
    "        self.log(\"test_loss\", loss)\n",
    "        return loss\n",
    "\n",
    "    def predict_step(self, batch, batch_idx):\n",
    "        x, y = batch\n",
    "        x, y = x.to(device), y.to(device)\n",
    "        y_hat = self(x)\n",
    "        return (y_hat, y)\n",
    "\n",
    "    def configure_optimizers(self):\n",
    "        optim = torch.optim.Adam(self.fc.parameters(), lr=0.002884)\n",
    "        scheduler = torch.optim.lr_scheduler.CosineAnnealingLR(optim, max_epochs)\n",
    "        return [optim], [scheduler]"
   ]
  },
  {
   "cell_type": "code",
   "execution_count": null,
   "metadata": {},
   "outputs": [],
   "source": [
    "convnext_model = ConvNextModel.from_pretrained(\"facebook/convnext-tiny-224\")\n",
    "reg_layer = nn.Linear(768, 1)\n",
    "reg_model = NaturenessRegressionModel(convnext_model, False, reg_layer)\n",
    "\n",
    "'''\n",
    "wandb_logger = pl.loggers.WandbLogger(\n",
    "    name=\"backbone\", project=\"Natureness Image Recognition\"\n",
    ")\n",
    "callback = pl.callbacks.ModelCheckpoint(\n",
    "    monitor='train_loss',\n",
    "    mode='min',\n",
    "    dirpath = '../ckpts/',\n",
    "    filename = 'best_backbone',\n",
    ")\n",
    "'''\n",
    "\n",
    "trainer = l.Trainer(\n",
    "    max_epochs=max_epochs, accelerator=accelerator, #logger=[wandb_logger], callbacks=[callback]\n",
    ")\n",
    "trainer.fit(model=reg_model, train_dataloaders=dataloader_train, val_dataloaders=dataloader_valid)\n",
    "\n",
    "#wandb.finish()"
   ]
  },
  {
   "cell_type": "markdown",
   "metadata": {},
   "source": []
  }
 ],
 "metadata": {
  "kernelspec": {
   "display_name": "Python 3 (ipykernel)",
   "language": "python",
   "name": "python3"
  },
  "language_info": {
   "codemirror_mode": {
    "name": "ipython",
    "version": 3
   },
   "file_extension": ".py",
   "mimetype": "text/x-python",
   "name": "python",
   "nbconvert_exporter": "python",
   "pygments_lexer": "ipython3",
   "version": "3.12.3"
  }
 },
 "nbformat": 4,
 "nbformat_minor": 2
}
