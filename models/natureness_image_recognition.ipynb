{
 "cells": [
  {
   "cell_type": "markdown",
   "metadata": {},
   "source": [
    "# Natureness Image Recognition\n",
    "\n",
    "Train and evaluation of multiple image recognition models on 2 datasets: city, nature.\n",
    "\n",
    "## Goals\n",
    "\n",
    "- Train models on 2 datasets: city, nature\n",
    "- Evaluate models on 2 datasets: city, nature\n",
    "- Compare the performance of the models on the 2 datasets, even with their respective evaluation datasets\n",
    "- Train more image recognition models with transfer learning"
   ]
  },
  {
   "cell_type": "code",
   "execution_count": null,
   "metadata": {},
   "outputs": [],
   "source": []
  }
 ],
 "metadata": {
  "language_info": {
   "name": "python"
  }
 },
 "nbformat": 4,
 "nbformat_minor": 2
}
