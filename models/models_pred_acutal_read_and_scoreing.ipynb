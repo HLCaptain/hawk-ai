{
  "cells": [
    {
      "cell_type": "code",
      "source": [
        "import matplotlib.pyplot as plt\n",
        "import torch\n",
        "from torch import nn\n",
        "from sklearn import metrics\n",
        "\n",
        "import numpy as np\n",
        "import pandas as pd\n",
        "import re"
      ],
      "metadata": {
        "id": "YaWadcBWuNlI"
      },
      "execution_count": 208,
      "outputs": []
    },
    {
      "cell_type": "markdown",
      "source": [
        "Innetől a beolvasáshoz segédlet"
      ],
      "metadata": {
        "id": "r2CoVkIaEsBp"
      }
    },
    {
      "cell_type": "code",
      "source": [
        "df_losses = pd.read_csv('model_losses.csv')\n",
        "# One column\n",
        "# p30_u10 - configuration key: Percentile 30, Uniformity 10\n",
        "# nature - model type: nature, urban or all\n",
        "# all - dataset type: nature, urban or all\n",
        "# 0.6424242854118347 - loss value for picture 0\n",
        "# 15 more float values for 15 more pictures\n",
        "df_actual = pd.read_csv('image_actual.csv')"
      ],
      "metadata": {
        "id": "hE0DJvksuvo-"
      },
      "execution_count": 235,
      "outputs": []
    },
    {
      "cell_type": "code",
      "source": [
        "for col in df_losses.columns:\n",
        "    # get first row value for this specific column\n",
        "    col_name = re.sub('\\.\\d$', '', col)\n",
        "    first_row = df_losses.iloc[0][col]\n",
        "    second_row = df_losses.iloc[1][col]\n",
        "    new_column_name = f\"{col_name}_{first_row}_{second_row}\"\n",
        "    # rename the column with the existing column header plus the first row of that column's data\n",
        "    df_losses.rename(columns={col: new_column_name}, inplace=True)\n",
        "\n",
        "# delete first row of data, now that it's merged into the header\n",
        "df_losses.drop(index=[0,1], inplace=True)\n",
        "df_losses.drop(columns=df_losses.columns[0], axis=1, inplace=True)\n",
        "df_losses.reset_index(drop=True, inplace=True)\n",
        "df_losses=df_losses.astype(float)\n",
        "for col in df_actual.columns:\n",
        "    # get first row value for this specific column\n",
        "    col_name = re.sub('\\.\\d$', '', col)\n",
        "    first_row = df_actual.iloc[0][col]\n",
        "    new_column_name = f\"{col_name}_{first_row}\"\n",
        "    # rename the column with the existing column header plus the first row of that column's data\n",
        "    df_actual.rename(columns={col: new_column_name}, inplace=True)\n",
        "\n",
        "# delete first row of data, now that it's merged into the header\n",
        "df_actual.drop(index=[0], inplace=True)\n",
        "df_actual.drop(columns=df_actual.columns[0], axis=1, inplace=True)\n",
        "df_actual.reset_index(drop=True,inplace=True)\n",
        "df_actual=df_losses.astype(float)"
      ],
      "metadata": {
        "id": "YcqkDXTivoRw"
      },
      "execution_count": 236,
      "outputs": []
    },
    {
      "cell_type": "code",
      "source": [
        "df_losses_true = pd.DataFrame(df_losses, index=df_losses.index, columns=df_losses.columns)\n",
        "df_actual_true = pd.DataFrame(df_actual, index=df_actual.index, columns=df_actual.columns)"
      ],
      "metadata": {
        "id": "3w3jw1qk2Xhr"
      },
      "execution_count": 237,
      "outputs": []
    },
    {
      "cell_type": "code",
      "source": [
        "for col in df_losses_true.columns:\n",
        "  df_losses_true[col].apply(lambda x: 0 if x > 0.5 else 1)\n",
        "for col in df_actual_true.columns:\n",
        "  df_actual_true[col].apply(lambda x: 0 if x > 0.5 else 1)"
      ],
      "metadata": {
        "id": "P2LNOSGm2yeL"
      },
      "execution_count": 238,
      "outputs": []
    },
    {
      "cell_type": "markdown",
      "source": [
        "Beolvasás és átalakítás vége"
      ],
      "metadata": {
        "id": "xq-FUv0cExi5"
      }
    },
    {
      "cell_type": "code",
      "source": [
        "def predictions(cutoff= 0.7):\n",
        "    cutoff = cutoff                              # decide on a cutoff limit\n",
        "    y_pred1 = []\n",
        "    y_pred2 = []\n",
        "    y_true = []\n",
        "    for y in range(10):\n",
        "        y = np.random.rand()\n",
        "        y_true.append(y)\n",
        "        y_pred1.append(y - 0.1*np.random.rand())\n",
        "        y_pred2.append(np.random.rand() + 0.1*np.random.rand())\n",
        "    y_true = np.array(y_true)\n",
        "    y_pred1 = np.array(y_pred1)\n",
        "    y_pred2 = np.array(y_pred2)\n",
        "\n",
        "    y_true_classes = np.zeros_like(y_true)    # initialise a matrix full with zeros\n",
        "    y_true_classes[y_true > cutoff] = 1       # add a 1 if the cutoff was breached\n",
        "    y_pred_classes1 = np.zeros_like(y_pred1)    # initialise a matrix full with zeros\n",
        "    y_pred_classes1[y_pred1 > cutoff] = 1       # add a 1 if the cutoff was breached\n",
        "    y_pred_classes2 = np.zeros_like(y_pred2)    # initialise a matrix full with zeros\n",
        "    y_pred_classes2[y_pred2 > cutoff] = 1       # add a 1 if the cutoff was breached\n",
        "    return y_true, y_true_classes, y_pred1, y_pred_classes1, y_pred2, y_pred_classes2"
      ],
      "metadata": {
        "id": "WM1i1uw5uH0S"
      },
      "execution_count": null,
      "outputs": []
    },
    {
      "cell_type": "code",
      "execution_count": null,
      "metadata": {
        "id": "R-vDrbqLEUZ6"
      },
      "outputs": [],
      "source": [
        "y_true, y_true_classes, y_pred1, y_pred_classes1 = predictions()"
      ]
    },
    {
      "cell_type": "code",
      "source": [
        "#Dice-folytonos\n",
        "Dice_pred1 = 2* np.sum(np.multiply(y_pred1, y_true))/(np.sum(y_pred1)*np.sum(y_true))\n",
        "Dice_pred2 = 2* np.sum(np.multiply(y_pred2, y_true))/(np.sum(y_pred2)*np.sum(y_true))\n",
        "Dice_preds = 2* np.sum(np.multiply(y_pred1, y_pred2))/(np.sum(y_pred1)*np.sum(y_pred2))\n",
        "Dice_preds, Dice_pred1, Dice_pred2"
      ],
      "metadata": {
        "colab": {
          "base_uri": "https://localhost:8080/"
        },
        "id": "yqbNtQsEhmL-",
        "outputId": "58086555-b40e-4dcc-83b2-194c8a834125"
      },
      "execution_count": null,
      "outputs": [
        {
          "output_type": "execute_result",
          "data": {
            "text/plain": [
              "(0.1979647592662276, 0.2905487175419531, 0.1964408422637171)"
            ]
          },
          "metadata": {},
          "execution_count": 117
        }
      ]
    },
    {
      "cell_type": "code",
      "source": [
        "y_true_classes, y_pred_classes1, y_pred_classes2"
      ],
      "metadata": {
        "colab": {
          "base_uri": "https://localhost:8080/"
        },
        "id": "JEJrzlnq1ytj",
        "outputId": "d85353ee-e588-4f49-bc14-464396b998c6"
      },
      "execution_count": null,
      "outputs": [
        {
          "output_type": "execute_result",
          "data": {
            "text/plain": [
              "(array([0., 1., 0., 0., 0., 0., 0., 0., 0., 1.]),\n",
              " array([0., 0., 0., 0., 0., 0., 0., 0., 0., 1.]),\n",
              " array([0., 0., 0., 1., 1., 0., 1., 1., 0., 0.]))"
            ]
          },
          "metadata": {},
          "execution_count": 106
        }
      ]
    },
    {
      "cell_type": "code",
      "source": [
        "tn, fp, fn, tp = metrics.confusion_matrix([0, 1, 0, 1], [1, 1, 1, 0]).ravel()\n",
        "tn, fp, fn, tp = metrics.confusion_matrix([0, 1, 0, 0, 0, 0], [0, 1, 1, 1, 0, 0]).ravel()\n",
        "(tn, fp, fn, tp)"
      ],
      "metadata": {
        "colab": {
          "base_uri": "https://localhost:8080/"
        },
        "id": "CPRjRT4-mV_s",
        "outputId": "5f8e2dbc-5142-4fc0-fe39-04e282ca6928"
      },
      "execution_count": null,
      "outputs": [
        {
          "output_type": "execute_result",
          "data": {
            "text/plain": [
              "(3, 2, 0, 1)"
            ]
          },
          "metadata": {},
          "execution_count": 9
        }
      ]
    },
    {
      "cell_type": "code",
      "source": [
        "metrics.confusion_matrix([0, 1, 0, 0, 0, 0], [0, 1, 1, 1, 0, 0])"
      ],
      "metadata": {
        "colab": {
          "base_uri": "https://localhost:8080/"
        },
        "id": "8grd8AaImj77",
        "outputId": "bde8ccf6-5a57-4354-ab39-3ea3701bc625"
      },
      "execution_count": null,
      "outputs": [
        {
          "output_type": "execute_result",
          "data": {
            "text/plain": [
              "array([[3, 2],\n",
              "       [0, 1]])"
            ]
          },
          "metadata": {},
          "execution_count": 10
        }
      ]
    },
    {
      "cell_type": "code",
      "source": [
        "tp, fp, fn, tn  = metrics.confusion_matrix(y_true_classes, y_pred_classes1).ravel() #roc_curve(test, pred, drop_intermediate=False)\n",
        "print(tp, fp, fn, tn)"
      ],
      "metadata": {
        "colab": {
          "base_uri": "https://localhost:8080/"
        },
        "id": "FM-Ioq-log0R",
        "outputId": "24ff4e1c-112e-4338-c1e5-47fae85e35c0"
      },
      "execution_count": null,
      "outputs": [
        {
          "output_type": "stream",
          "name": "stdout",
          "text": [
            "8 0 1 1\n"
          ]
        }
      ]
    },
    {
      "cell_type": "code",
      "source": [
        "#Intersection over Union\n",
        "IoU = tp / (tp+fn+fp)\n",
        "IoU"
      ],
      "metadata": {
        "colab": {
          "base_uri": "https://localhost:8080/"
        },
        "id": "jMtgYdgE2VBm",
        "outputId": "e588c754-3b23-4ed5-b4cc-fe8f9fc1e7a8"
      },
      "execution_count": null,
      "outputs": [
        {
          "output_type": "execute_result",
          "data": {
            "text/plain": [
              "0.8888888888888888"
            ]
          },
          "metadata": {},
          "execution_count": 121
        }
      ]
    },
    {
      "cell_type": "code",
      "source": [
        "#Sørensen–Dice\n",
        "DSC = (2*tp) / (2*tp+fn+fp)\n",
        "DSC"
      ],
      "metadata": {
        "colab": {
          "base_uri": "https://localhost:8080/"
        },
        "id": "-VeAFfVt23lx",
        "outputId": "2aecd4e5-4ab3-4a75-b3da-74f05284fccc"
      },
      "execution_count": null,
      "outputs": [
        {
          "output_type": "execute_result",
          "data": {
            "text/plain": [
              "0.9411764705882353"
            ]
          },
          "metadata": {},
          "execution_count": 122
        }
      ]
    }
  ],
  "metadata": {
    "colab": {
      "provenance": []
    },
    "kernelspec": {
      "display_name": "Python 3",
      "name": "python3"
    },
    "language_info": {
      "name": "python"
    }
  },
  "nbformat": 4,
  "nbformat_minor": 0
}