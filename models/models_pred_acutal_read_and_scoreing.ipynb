{
  "cells": [
    {
      "cell_type": "code",
      "source": [
        "import matplotlib.pyplot as plt\n",
        "import torch\n",
        "from torch import nn\n",
        "from sklearn import metrics\n",
        "\n",
        "import numpy as np\n",
        "import pandas as pd\n",
        "import re"
      ],
      "metadata": {
        "id": "YaWadcBWuNlI"
      },
      "execution_count": 106,
      "outputs": []
    },
    {
      "cell_type": "markdown",
      "source": [
        "Innetől a beolvasáshoz segédlet"
      ],
      "metadata": {
        "id": "r2CoVkIaEsBp"
      }
    },
    {
      "cell_type": "code",
      "source": [
        "# One column\n",
        "# p30_u10 - configuration key: Percentile 30, Uniformity 10\n",
        "# nature - model type: nature, urban or all\n",
        "# all - dataset type: nature, urban or all\n",
        "# 0.6424242854118347 - loss value for picture 0\n",
        "# 15 more float values for 15 more pictures\n",
        "df_losses = pd.read_csv('model_losses.csv')\n",
        "# One column\n",
        "# p30_u10 - configuration key: Percentile 30, Uniformity 10\n",
        "# all - dataset type: nature, urban or all\n",
        "# 0.6424242854118347 - loss value for picture 0\n",
        "# 15 more float values for 15 more pictures\n",
        "df_actual = pd.read_csv('image_actual.csv')"
      ],
      "metadata": {
        "id": "hE0DJvksuvo-"
      },
      "execution_count": 129,
      "outputs": []
    },
    {
      "cell_type": "code",
      "source": [
        "for col in df_losses.columns:\n",
        "    # get first row value for this specific column\n",
        "    col_name = re.sub('\\.\\d$', '', col)\n",
        "    first_row = df_losses.iloc[0][col]\n",
        "    second_row = df_losses.iloc[1][col]\n",
        "    new_column_name = f\"{col_name}_{first_row}_{second_row}\"\n",
        "    # rename the column with the existing column header plus the first row of that column's data\n",
        "    df_losses.rename(columns={col: new_column_name}, inplace=True)\n",
        "\n",
        "# delete first row of data, now that it's merged into the header\n",
        "df_losses.drop(index=[0,1], inplace=True)\n",
        "df_losses.drop(columns=df_losses.columns[0], axis=1, inplace=True)\n",
        "df_losses.reset_index(drop=True, inplace=True)\n",
        "df_losses=df_losses.astype(float)\n",
        "\n",
        "for col in df_actual.columns:\n",
        "    # get first row value for this specific column\n",
        "    col_name = re.sub('\\.\\d$', '', col)\n",
        "    first_row = df_actual.iloc[0][col]\n",
        "    new_column_name_2 = f\"{col_name}_{first_row}\"\n",
        "    # rename the column with the existing column header plus the first row of that column's data\n",
        "    df_actual.rename(columns={col: new_column_name_2}, inplace=True)\n",
        "\n",
        "# delete first row of data, now that it's merged into the header\n",
        "df_actual.drop(index=[0], inplace=True)\n",
        "df_actual.drop(columns=df_actual.columns[0], axis=1, inplace=True)\n",
        "df_actual.reset_index(drop=True,inplace=True)\n",
        "df_actual=df_actual.astype(float)"
      ],
      "metadata": {
        "id": "YcqkDXTivoRw"
      },
      "execution_count": 136,
      "outputs": []
    },
    {
      "cell_type": "code",
      "source": [
        "df_losses_true = pd.DataFrame(df_losses, index=df_losses.index, columns=df_losses.columns)\n",
        "df_actual_true = pd.DataFrame(df_actual, index=df_actual.index, columns=df_actual.columns)"
      ],
      "metadata": {
        "id": "3w3jw1qk2Xhr"
      },
      "execution_count": 137,
      "outputs": []
    },
    {
      "cell_type": "code",
      "source": [
        "for col in df_losses_true.columns:\n",
        "  df_losses_true.loc[df_losses_true[col] > 0.5, col] = 1\n",
        "  df_losses_true.loc[df_losses_true[col] <= 0.5, col] = 0\n",
        "for col in df_actual_true.columns:\n",
        "  df_actual_true.loc[df_actual_true[col] > 0.5, col] = 1\n",
        "  df_actual_true.loc[df_actual_true[col] <= 0.5, col] = 0"
      ],
      "metadata": {
        "id": "P2LNOSGm2yeL"
      },
      "execution_count": 138,
      "outputs": []
    },
    {
      "cell_type": "code",
      "source": [
        "#A tesztelni kívánt oszlopokat beolvassuk mindkét adaktészletből\n",
        "loses = np.array(df_losses_true[['p30_u10_nature_urban','p50_u10_nature_all', 'p30_u10_nature_all']])\n",
        "act = np.array(df_actual_true[['p30_u10_nature_urban','p50_u10_nature_all', 'p30_u10_nature_all']])"
      ],
      "metadata": {
        "id": "c8-s54PWhUdI"
      },
      "execution_count": null,
      "outputs": []
    },
    {
      "cell_type": "markdown",
      "source": [
        "Beolvasás és átalakítások vége. Innentől a már korébban meglévő confusion mátrix és score-ok számítása következik."
      ],
      "metadata": {
        "id": "xq-FUv0cExi5"
      }
    },
    {
      "cell_type": "code",
      "source": [
        "tn, fp, fn, tp  = metrics.confusion_matrix(act,loses).ravel() #roc_curve(test, pred, drop_intermediate=False)\n",
        "print(tn, fp, fn, tp)"
      ],
      "metadata": {
        "colab": {
          "base_uri": "https://localhost:8080/",
          "height": 308
        },
        "id": "FM-Ioq-log0R",
        "outputId": "f4b683eb-7977-4fe2-89f6-e3ae649d0b0d"
      },
      "execution_count": 65,
      "outputs": [
        {
          "output_type": "error",
          "ename": "ValueError",
          "evalue": "multilabel-indicator is not supported",
          "traceback": [
            "\u001b[0;31m---------------------------------------------------------------------------\u001b[0m",
            "\u001b[0;31mValueError\u001b[0m                                Traceback (most recent call last)",
            "\u001b[0;32m<ipython-input-65-6295a9b1ad17>\u001b[0m in \u001b[0;36m<cell line: 1>\u001b[0;34m()\u001b[0m\n\u001b[0;32m----> 1\u001b[0;31m \u001b[0mtn\u001b[0m\u001b[0;34m,\u001b[0m \u001b[0mfp\u001b[0m\u001b[0;34m,\u001b[0m \u001b[0mfn\u001b[0m\u001b[0;34m,\u001b[0m \u001b[0mtp\u001b[0m  \u001b[0;34m=\u001b[0m \u001b[0mmetrics\u001b[0m\u001b[0;34m.\u001b[0m\u001b[0mconfusion_matrix\u001b[0m\u001b[0;34m(\u001b[0m\u001b[0mact\u001b[0m\u001b[0;34m,\u001b[0m\u001b[0mloses\u001b[0m\u001b[0;34m)\u001b[0m\u001b[0;34m.\u001b[0m\u001b[0mravel\u001b[0m\u001b[0;34m(\u001b[0m\u001b[0;34m)\u001b[0m \u001b[0;31m#roc_curve(test, pred, drop_intermediate=False)\u001b[0m\u001b[0;34m\u001b[0m\u001b[0;34m\u001b[0m\u001b[0m\n\u001b[0m\u001b[1;32m      2\u001b[0m \u001b[0mprint\u001b[0m\u001b[0;34m(\u001b[0m\u001b[0mtn\u001b[0m\u001b[0;34m,\u001b[0m \u001b[0mfp\u001b[0m\u001b[0;34m,\u001b[0m \u001b[0mfn\u001b[0m\u001b[0;34m,\u001b[0m \u001b[0mtp\u001b[0m\u001b[0;34m)\u001b[0m\u001b[0;34m\u001b[0m\u001b[0;34m\u001b[0m\u001b[0m\n",
            "\u001b[0;32m/usr/local/lib/python3.10/dist-packages/sklearn/metrics/_classification.py\u001b[0m in \u001b[0;36mconfusion_matrix\u001b[0;34m(y_true, y_pred, labels, sample_weight, normalize)\u001b[0m\n\u001b[1;32m    317\u001b[0m     \u001b[0my_type\u001b[0m\u001b[0;34m,\u001b[0m \u001b[0my_true\u001b[0m\u001b[0;34m,\u001b[0m \u001b[0my_pred\u001b[0m \u001b[0;34m=\u001b[0m \u001b[0m_check_targets\u001b[0m\u001b[0;34m(\u001b[0m\u001b[0my_true\u001b[0m\u001b[0;34m,\u001b[0m \u001b[0my_pred\u001b[0m\u001b[0;34m)\u001b[0m\u001b[0;34m\u001b[0m\u001b[0;34m\u001b[0m\u001b[0m\n\u001b[1;32m    318\u001b[0m     \u001b[0;32mif\u001b[0m \u001b[0my_type\u001b[0m \u001b[0;32mnot\u001b[0m \u001b[0;32min\u001b[0m \u001b[0;34m(\u001b[0m\u001b[0;34m\"binary\"\u001b[0m\u001b[0;34m,\u001b[0m \u001b[0;34m\"multiclass\"\u001b[0m\u001b[0;34m)\u001b[0m\u001b[0;34m:\u001b[0m\u001b[0;34m\u001b[0m\u001b[0;34m\u001b[0m\u001b[0m\n\u001b[0;32m--> 319\u001b[0;31m         \u001b[0;32mraise\u001b[0m \u001b[0mValueError\u001b[0m\u001b[0;34m(\u001b[0m\u001b[0;34m\"%s is not supported\"\u001b[0m \u001b[0;34m%\u001b[0m \u001b[0my_type\u001b[0m\u001b[0;34m)\u001b[0m\u001b[0;34m\u001b[0m\u001b[0;34m\u001b[0m\u001b[0m\n\u001b[0m\u001b[1;32m    320\u001b[0m \u001b[0;34m\u001b[0m\u001b[0m\n\u001b[1;32m    321\u001b[0m     \u001b[0;32mif\u001b[0m \u001b[0mlabels\u001b[0m \u001b[0;32mis\u001b[0m \u001b[0;32mNone\u001b[0m\u001b[0;34m:\u001b[0m\u001b[0;34m\u001b[0m\u001b[0;34m\u001b[0m\u001b[0m\n",
            "\u001b[0;31mValueError\u001b[0m: multilabel-indicator is not supported"
          ]
        }
      ]
    },
    {
      "cell_type": "code",
      "source": [
        "#Intersection over Union\n",
        "IoU = tp / (tp+fn+fp)\n",
        "IoU"
      ],
      "metadata": {
        "colab": {
          "base_uri": "https://localhost:8080/"
        },
        "id": "jMtgYdgE2VBm",
        "outputId": "846b416c-82ee-4d70-8500-4fb445bceccd"
      },
      "execution_count": 55,
      "outputs": [
        {
          "output_type": "execute_result",
          "data": {
            "text/plain": [
              "1.0"
            ]
          },
          "metadata": {},
          "execution_count": 55
        }
      ]
    },
    {
      "cell_type": "code",
      "source": [
        "#Sørensen–Dice\n",
        "DSC = (2*tp) / (2*tp+fn+fp)\n",
        "DSC"
      ],
      "metadata": {
        "colab": {
          "base_uri": "https://localhost:8080/"
        },
        "id": "-VeAFfVt23lx",
        "outputId": "c4b2afd0-3183-4ca8-903a-6505476e743e"
      },
      "execution_count": 56,
      "outputs": [
        {
          "output_type": "execute_result",
          "data": {
            "text/plain": [
              "1.0"
            ]
          },
          "metadata": {},
          "execution_count": 56
        }
      ]
    }
  ],
  "metadata": {
    "colab": {
      "provenance": []
    },
    "kernelspec": {
      "display_name": "Python 3",
      "name": "python3"
    },
    "language_info": {
      "name": "python"
    }
  },
  "nbformat": 4,
  "nbformat_minor": 0
}